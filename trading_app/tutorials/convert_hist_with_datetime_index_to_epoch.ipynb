{
 "cells": [
  {
   "cell_type": "code",
   "execution_count": 1,
   "metadata": {},
   "outputs": [],
   "source": [
    "import os\n",
    "import sys\n",
    "sys.path.append(os.path.join(os.getcwd(), '..'))"
   ]
  },
  {
   "cell_type": "code",
   "execution_count": 2,
   "metadata": {},
   "outputs": [],
   "source": [
    "from trader_factory import build_active_IBridgePy_plus"
   ]
  },
  {
   "cell_type": "code",
   "execution_count": 3,
   "metadata": {},
   "outputs": [],
   "source": [
    "t = build_active_IBridgePy_plus('DU1868499')  # Create an IBridgePy_plus instance"
   ]
  },
  {
   "cell_type": "code",
   "execution_count": 4,
   "metadata": {},
   "outputs": [],
   "source": [
    "from IBridgePy.IbridgepyTools import symbol"
   ]
  },
  {
   "cell_type": "code",
   "execution_count": 5,
   "metadata": {},
   "outputs": [],
   "source": [
    "# Get historical data of SPY, daily bar, go back 5 days\n",
    "hist = t.request_historical_data(symbol('SPY'), '1 day', '5 D')"
   ]
  },
  {
   "cell_type": "code",
   "execution_count": 6,
   "metadata": {},
   "outputs": [
    {
     "data": {
      "text/html": [
       "<div>\n",
       "<style scoped>\n",
       "    .dataframe tbody tr th:only-of-type {\n",
       "        vertical-align: middle;\n",
       "    }\n",
       "\n",
       "    .dataframe tbody tr th {\n",
       "        vertical-align: top;\n",
       "    }\n",
       "\n",
       "    .dataframe thead th {\n",
       "        text-align: right;\n",
       "    }\n",
       "</style>\n",
       "<table border=\"1\" class=\"dataframe\">\n",
       "  <thead>\n",
       "    <tr style=\"text-align: right;\">\n",
       "      <th></th>\n",
       "      <th>open</th>\n",
       "      <th>high</th>\n",
       "      <th>low</th>\n",
       "      <th>close</th>\n",
       "      <th>volume</th>\n",
       "    </tr>\n",
       "  </thead>\n",
       "  <tbody>\n",
       "    <tr>\n",
       "      <th>2020-12-17</th>\n",
       "      <td>371.94</td>\n",
       "      <td>372.46</td>\n",
       "      <td>371.05</td>\n",
       "      <td>372.24</td>\n",
       "      <td>287860</td>\n",
       "    </tr>\n",
       "    <tr>\n",
       "      <th>2020-12-18</th>\n",
       "      <td>370.97</td>\n",
       "      <td>371.15</td>\n",
       "      <td>367.02</td>\n",
       "      <td>369.18</td>\n",
       "      <td>542187</td>\n",
       "    </tr>\n",
       "    <tr>\n",
       "      <th>2020-12-21</th>\n",
       "      <td>364.97</td>\n",
       "      <td>373.00</td>\n",
       "      <td>362.03</td>\n",
       "      <td>367.86</td>\n",
       "      <td>628768</td>\n",
       "    </tr>\n",
       "    <tr>\n",
       "      <th>2020-12-22</th>\n",
       "      <td>368.21</td>\n",
       "      <td>368.34</td>\n",
       "      <td>366.03</td>\n",
       "      <td>367.24</td>\n",
       "      <td>317473</td>\n",
       "    </tr>\n",
       "    <tr>\n",
       "      <th>2020-12-23</th>\n",
       "      <td>368.26</td>\n",
       "      <td>369.62</td>\n",
       "      <td>367.39</td>\n",
       "      <td>367.57</td>\n",
       "      <td>282032</td>\n",
       "    </tr>\n",
       "  </tbody>\n",
       "</table>\n",
       "</div>"
      ],
      "text/plain": [
       "              open    high     low   close  volume\n",
       "2020-12-17  371.94  372.46  371.05  372.24  287860\n",
       "2020-12-18  370.97  371.15  367.02  369.18  542187\n",
       "2020-12-21  364.97  373.00  362.03  367.86  628768\n",
       "2020-12-22  368.21  368.34  366.03  367.24  317473\n",
       "2020-12-23  368.26  369.62  367.39  367.57  282032"
      ]
     },
     "execution_count": 6,
     "metadata": {},
     "output_type": "execute_result"
    }
   ],
   "source": [
    "hist"
   ]
  },
  {
   "cell_type": "code",
   "execution_count": 7,
   "metadata": {},
   "outputs": [
    {
     "data": {
      "text/plain": [
       "datetime.date"
      ]
     },
     "execution_count": 7,
     "metadata": {},
     "output_type": "execute_result"
    }
   ],
   "source": [
    "type(hist.index[-1])  # The type should be datetime.date"
   ]
  },
  {
   "cell_type": "code",
   "execution_count": 8,
   "metadata": {},
   "outputs": [],
   "source": [
    "from tools.hist_converter import convert_hist_using_datetime_to_epoch"
   ]
  },
  {
   "cell_type": "code",
   "execution_count": 9,
   "metadata": {},
   "outputs": [],
   "source": [
    "converted = convert_hist_using_datetime_to_epoch(hist)"
   ]
  },
  {
   "cell_type": "code",
   "execution_count": 10,
   "metadata": {},
   "outputs": [
    {
     "data": {
      "text/plain": [
       "numpy.int64"
      ]
     },
     "execution_count": 10,
     "metadata": {},
     "output_type": "execute_result"
    }
   ],
   "source": [
    "type(converted.index[-1])  # The type should be numpy.int64"
   ]
  },
  {
   "cell_type": "code",
   "execution_count": 11,
   "metadata": {},
   "outputs": [
    {
     "data": {
      "text/html": [
       "<div>\n",
       "<style scoped>\n",
       "    .dataframe tbody tr th:only-of-type {\n",
       "        vertical-align: middle;\n",
       "    }\n",
       "\n",
       "    .dataframe tbody tr th {\n",
       "        vertical-align: top;\n",
       "    }\n",
       "\n",
       "    .dataframe thead th {\n",
       "        text-align: right;\n",
       "    }\n",
       "</style>\n",
       "<table border=\"1\" class=\"dataframe\">\n",
       "  <thead>\n",
       "    <tr style=\"text-align: right;\">\n",
       "      <th></th>\n",
       "      <th>index</th>\n",
       "      <th>open</th>\n",
       "      <th>high</th>\n",
       "      <th>low</th>\n",
       "      <th>close</th>\n",
       "      <th>volume</th>\n",
       "    </tr>\n",
       "    <tr>\n",
       "      <th>epoch</th>\n",
       "      <th></th>\n",
       "      <th></th>\n",
       "      <th></th>\n",
       "      <th></th>\n",
       "      <th></th>\n",
       "      <th></th>\n",
       "    </tr>\n",
       "  </thead>\n",
       "  <tbody>\n",
       "    <tr>\n",
       "      <th>1608163200</th>\n",
       "      <td>2020-12-17</td>\n",
       "      <td>371.94</td>\n",
       "      <td>372.46</td>\n",
       "      <td>371.05</td>\n",
       "      <td>372.24</td>\n",
       "      <td>287860</td>\n",
       "    </tr>\n",
       "    <tr>\n",
       "      <th>1608249600</th>\n",
       "      <td>2020-12-18</td>\n",
       "      <td>370.97</td>\n",
       "      <td>371.15</td>\n",
       "      <td>367.02</td>\n",
       "      <td>369.18</td>\n",
       "      <td>542187</td>\n",
       "    </tr>\n",
       "    <tr>\n",
       "      <th>1608508800</th>\n",
       "      <td>2020-12-21</td>\n",
       "      <td>364.97</td>\n",
       "      <td>373.00</td>\n",
       "      <td>362.03</td>\n",
       "      <td>367.86</td>\n",
       "      <td>628768</td>\n",
       "    </tr>\n",
       "    <tr>\n",
       "      <th>1608595200</th>\n",
       "      <td>2020-12-22</td>\n",
       "      <td>368.21</td>\n",
       "      <td>368.34</td>\n",
       "      <td>366.03</td>\n",
       "      <td>367.24</td>\n",
       "      <td>317473</td>\n",
       "    </tr>\n",
       "    <tr>\n",
       "      <th>1608681600</th>\n",
       "      <td>2020-12-23</td>\n",
       "      <td>368.26</td>\n",
       "      <td>369.62</td>\n",
       "      <td>367.39</td>\n",
       "      <td>367.57</td>\n",
       "      <td>282032</td>\n",
       "    </tr>\n",
       "  </tbody>\n",
       "</table>\n",
       "</div>"
      ],
      "text/plain": [
       "                 index    open    high     low   close  volume\n",
       "epoch                                                         \n",
       "1608163200  2020-12-17  371.94  372.46  371.05  372.24  287860\n",
       "1608249600  2020-12-18  370.97  371.15  367.02  369.18  542187\n",
       "1608508800  2020-12-21  364.97  373.00  362.03  367.86  628768\n",
       "1608595200  2020-12-22  368.21  368.34  366.03  367.24  317473\n",
       "1608681600  2020-12-23  368.26  369.62  367.39  367.57  282032"
      ]
     },
     "execution_count": 11,
     "metadata": {},
     "output_type": "execute_result"
    }
   ],
   "source": [
    "converted"
   ]
  },
  {
   "cell_type": "code",
   "execution_count": 12,
   "metadata": {},
   "outputs": [],
   "source": [
    "converted.to_csv(os.path.join(os.getcwd(), '..', 'Output', 'myHist.csv'))"
   ]
  },
  {
   "cell_type": "code",
   "execution_count": null,
   "metadata": {},
   "outputs": [],
   "source": []
  }
 ],
 "metadata": {
  "kernelspec": {
   "display_name": "Python 3",
   "language": "python",
   "name": "python3"
  },
  "language_info": {
   "codemirror_mode": {
    "name": "ipython",
    "version": 3
   },
   "file_extension": ".py",
   "mimetype": "text/x-python",
   "name": "python",
   "nbconvert_exporter": "python",
   "pygments_lexer": "ipython3",
   "version": "3.8.6"
  }
 },
 "nbformat": 4,
 "nbformat_minor": 4
}
