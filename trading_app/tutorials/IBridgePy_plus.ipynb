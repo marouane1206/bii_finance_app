{
 "cells": [
  {
   "cell_type": "code",
   "execution_count": null,
   "metadata": {},
   "outputs": [],
   "source": [
    "# Starting from the parent folder of IBridgePy to demo importing IBridgePy and creating an IBridgePy object\n",
    "# This block is to add IBridgePy project folder to PythonPath\n",
    "import sys\n",
    "import os\n",
    "# The folder name of IBridgePy in my computer is YellowstoneIBridgePy\n",
    "# User may need to change it as you need, especially when you move the IBridgePy folder.\n",
    "sys.path.append(os.path.join(os.getcwd(), 'YellowstoneIBridgePy'))"
   ]
  },
  {
   "cell_type": "code",
   "execution_count": null,
   "metadata": {},
   "outputs": [],
   "source": [
    "from YellowstoneIBridgePy import build_active_IBridgePy_plus\n",
    "from IBridgePy.IbridgepyTools import symbol\n",
    "from IBridgePy.OrderTypes import LimitOrder, StopOrder"
   ]
  },
  {
   "cell_type": "code",
   "execution_count": null,
   "metadata": {},
   "outputs": [],
   "source": [
    "t = build_active_IBridgePy_plus('DU1868499')  # t is the IBridgePy plus object"
   ]
  },
  {
   "cell_type": "code",
   "execution_count": null,
   "metadata": {},
   "outputs": [],
   "source": [
    "t.display_all()  # display account information"
   ]
  },
  {
   "cell_type": "code",
   "execution_count": null,
   "metadata": {},
   "outputs": [],
   "source": [
    "# Retrieve historical data of SPY, daily bar, and go back 5 days.\n",
    "t.request_historical_data(symbol('SPY'), '1 day', '5 D')"
   ]
  },
  {
   "cell_type": "code",
   "execution_count": null,
   "metadata": {},
   "outputs": [],
   "source": [
    "# Show real time ask price of a FOREX EURUSD. Try this one when market is open to see a valid price\n",
    "t.show_real_time_price(symbol('CASH,EUR,USD'), 'ask_price')"
   ]
  },
  {
   "cell_type": "code",
   "execution_count": null,
   "metadata": {},
   "outputs": [],
   "source": [
    "# Show 'NetLiquidation' of the account\n",
    "t.show_account_info('NetLiquidation')"
   ]
  },
  {
   "cell_type": "code",
   "execution_count": null,
   "metadata": {},
   "outputs": [],
   "source": [
    "# Buy 100 share of FOREX EURUSD\n",
    "t.order(symbol('CASH,EUR,USD'), 100)"
   ]
  },
  {
   "cell_type": "code",
   "execution_count": null,
   "metadata": {},
   "outputs": [],
   "source": [
    "# Display all positions in the account\n",
    "t.get_all_positions()"
   ]
  },
  {
   "cell_type": "code",
   "execution_count": null,
   "metadata": {},
   "outputs": [],
   "source": [
    "# Close all positions of FOREX EURUSD\n",
    "t.order_target(symbol('CASH,EUR,USD'), 0)"
   ]
  },
  {
   "cell_type": "code",
   "execution_count": null,
   "metadata": {},
   "outputs": [],
   "source": [
    "# Place a limit price order\n",
    "t.order(symbol('SPY'), 10, LimitOrder(limit_price=99.90))"
   ]
  },
  {
   "cell_type": "code",
   "execution_count": null,
   "metadata": {},
   "outputs": [],
   "source": [
    "# Display all open orders in the account\n",
    "t.get_all_orders()"
   ]
  },
  {
   "cell_type": "code",
   "execution_count": null,
   "metadata": {},
   "outputs": [],
   "source": [
    "# Cancel an open order identified by an IBridgePy order IB\n",
    "t.cancel_order('ib61')"
   ]
  },
  {
   "cell_type": "code",
   "execution_count": null,
   "metadata": {},
   "outputs": [],
   "source": [
    "t.disconnect()"
   ]
  },
  {
   "cell_type": "code",
   "execution_count": null,
   "metadata": {},
   "outputs": [],
   "source": []
  }
 ],
 "metadata": {
  "kernelspec": {
   "display_name": "Python 3",
   "language": "python",
   "name": "python3"
  },
  "language_info": {
   "codemirror_mode": {
    "name": "ipython",
    "version": 3
   },
   "file_extension": ".py",
   "mimetype": "text/x-python",
   "name": "python",
   "nbconvert_exporter": "python",
   "pygments_lexer": "ipython3",
   "version": "3.9.2"
  }
 },
 "nbformat": 4,
 "nbformat_minor": 4
}
